{
 "cells": [
  {
   "cell_type": "markdown",
   "metadata": {},
   "source": [
    "# Prompt Engineering\n",
    "\n",
    "<div align=\"center\">\n",
    "    <img src=\"images/Prompt Engineering.png\" height=\"300\">\n",
    "</div>\n",
    "\n",
    "## Introduction\n",
    "\n",
    "Prompt Engineering is the process of crafting instructions that can be understood and interpreted by an AI model (typically LLMs) to enable it to perform tasks and generate outputs that are accurate and correctly formatted.\n",
    "\n",
    "In laymen terms, *prompt engineering* is a fancy term that describes techniques to converse with LLMs to get expected results.\n",
    "\n",
    "- **Software Engineering** -> Writing instructions in code to get a computer to execute tasks.\n",
    "- **Prompt Engineering**   -> Writing instructions in natural language to get an LLM to execute tasks"
   ]
  },
  {
   "cell_type": "markdown",
   "metadata": {},
   "source": [
    "## Getting Started with ChatGPT\n",
    "\n",
    "Although transformers, the technology that powers a majority of the LLMs today was invented by a team of Google Researchers in 2017 (we strongly suggest you try to give their seminal paper [Attention is all you need](https://arxiv.org/abs/1706.03762) a read), it was not until the launch of ChatGPT by OpenAI in late 2021 that the people and organizations started grasping the massive potential of LLMs.\n",
    "\n",
    "<br />\n",
    "\n",
    "\n",
    "<div align=\"center\">\n",
    "    <img src=\"images/ChatGPT.png\" height=\"450\">\n",
    "</div>\n",
    "\n",
    "<br />\n",
    "\n",
    "One of the reasons why ChatGPT blew up was because of the launch of a web app that made it incredibly simple to *chat* with an LLM, and get inputs on virtually anything, from drafting cover letters for job applications to debugging code to generating imaginative interviews on Steve Jobs' reaction to the AirPods.\n",
    "\n",
    "### Poll\n",
    "\n",
    "How many of you here have used ChatGPT to accomplish tasks in your day-to-day life? Let us know in the chat!\n",
    "\n",
    "## The OpenAI API\n",
    "\n",
    "While the ChatGPT web app is really impressive, what helps software engineers, designers and entrepreneurs around the world unleash ChatGPT to its fullest is the OpenAI API. Using the OpenAI API and clever prompt engineering, hundreds of startups have come up with innovative products that have the potential to disrupt several industries and pave way for the next trillion dollar companies.\n",
    "\n",
    "Some examples include:\n",
    "\n",
    "#### Perplexity AI: A Search Engine powered by LLMs.\n",
    "\n",
    "<div align=\"center\">\n",
    "    <img src=\"images/Perplexity.png\" height=\"400\">\n",
    "</div>\n",
    "\n",
    "#### Shepherd: Empowering Students to learn using GenAI\n",
    "\n",
    "<div align=\"center\">\n",
    "    <img src=\"images/Shepherd.png\" height=\"400\">\n",
    "</div>\n",
    "\n",
    "#### CodeAnt: Fixing bad/buggy code using GenAI\n",
    "\n",
    "<div align=\"center\">\n",
    "    <img src=\"images/Codeant.png\" height=\"400\">\n",
    "</div>\n",
    "\n",
    "<br />\n",
    "\n",
    "And it's not the just the startups. Organizations from virtually every indsutry in the world, be it banking, insurance, CPG, advertising, or pharmaceuticals are also experimenting with GenAI to create new revenue streams, and improve efficiency of their various stakeholders.\n",
    "\n",
    "At McKinsey and QuantumBlack, here are a few use cases we've seen:\n",
    "1. An IT Company leveraging LLMs to resolve tickets.\n",
    "2. A big pharma building a sales rep copilot that answers questions using their internal databases.\n",
    "3. A big pharma leveraging LLMs to cut down time to generate CSRs by 95%\n",
    "4. A bank answering questionnaires using publicly available ESG reports\n",
    "...And many more!\n",
    "\n",
    "In all of these cases, powerful results were achieved using ChatGPT through the OpenAI API. Let's see how it works!\n",
    "\n",
    "\n"
   ]
  },
  {
   "cell_type": "markdown",
   "metadata": {},
   "source": [
    "### Pre-requisites\n",
    "\n",
    "1. Python and pip installed on your local machine.\n",
    "2. An active OpenAI API key (and optionally, base URL). You can get your own for free at https://platform.openai.com/api-keys."
   ]
  },
  {
   "cell_type": "code",
   "execution_count": 1,
   "metadata": {},
   "outputs": [
    {
     "name": "stdout",
     "output_type": "stream",
     "text": [
      "Requirement already satisfied: openai in /Library/Frameworks/Python.framework/Versions/3.11/lib/python3.11/site-packages (1.13.3)\n",
      "Requirement already satisfied: anyio<5,>=3.5.0 in /Library/Frameworks/Python.framework/Versions/3.11/lib/python3.11/site-packages (from openai) (3.7.1)\n",
      "Requirement already satisfied: distro<2,>=1.7.0 in /Library/Frameworks/Python.framework/Versions/3.11/lib/python3.11/site-packages (from openai) (1.9.0)\n",
      "Requirement already satisfied: httpx<1,>=0.23.0 in /Library/Frameworks/Python.framework/Versions/3.11/lib/python3.11/site-packages (from openai) (0.26.0)\n",
      "Requirement already satisfied: pydantic<3,>=1.9.0 in /Library/Frameworks/Python.framework/Versions/3.11/lib/python3.11/site-packages (from openai) (2.6.3)\n",
      "Requirement already satisfied: sniffio in /Library/Frameworks/Python.framework/Versions/3.11/lib/python3.11/site-packages (from openai) (1.3.0)\n",
      "Requirement already satisfied: tqdm>4 in /Library/Frameworks/Python.framework/Versions/3.11/lib/python3.11/site-packages (from openai) (4.66.1)\n",
      "Requirement already satisfied: typing-extensions<5,>=4.7 in /Library/Frameworks/Python.framework/Versions/3.11/lib/python3.11/site-packages (from openai) (4.9.0)\n",
      "Requirement already satisfied: idna>=2.8 in /Library/Frameworks/Python.framework/Versions/3.11/lib/python3.11/site-packages (from anyio<5,>=3.5.0->openai) (2.8)\n",
      "Requirement already satisfied: certifi in /Library/Frameworks/Python.framework/Versions/3.11/lib/python3.11/site-packages (from httpx<1,>=0.23.0->openai) (2023.11.17)\n",
      "Requirement already satisfied: httpcore==1.* in /Library/Frameworks/Python.framework/Versions/3.11/lib/python3.11/site-packages (from httpx<1,>=0.23.0->openai) (1.0.2)\n",
      "Requirement already satisfied: h11<0.15,>=0.13 in /Library/Frameworks/Python.framework/Versions/3.11/lib/python3.11/site-packages (from httpcore==1.*->httpx<1,>=0.23.0->openai) (0.14.0)\n",
      "Requirement already satisfied: annotated-types>=0.4.0 in /Library/Frameworks/Python.framework/Versions/3.11/lib/python3.11/site-packages (from pydantic<3,>=1.9.0->openai) (0.6.0)\n",
      "Requirement already satisfied: pydantic-core==2.16.3 in /Library/Frameworks/Python.framework/Versions/3.11/lib/python3.11/site-packages (from pydantic<3,>=1.9.0->openai) (2.16.3)\n",
      "\u001b[33mDEPRECATION: textract 1.6.5 has a non-standard dependency specifier extract-msg<=0.29.*. pip 23.3 will enforce this behaviour change. A possible replacement is to upgrade to a newer version of textract or contact the author to suggest that they release a version with a conforming dependency specifiers. Discussion can be found at https://github.com/pypa/pip/issues/12063\u001b[0m\u001b[33m\n",
      "\u001b[0m\n",
      "\u001b[1m[\u001b[0m\u001b[34;49mnotice\u001b[0m\u001b[1;39;49m]\u001b[0m\u001b[39;49m A new release of pip is available: \u001b[0m\u001b[31;49m23.2.1\u001b[0m\u001b[39;49m -> \u001b[0m\u001b[32;49m24.0\u001b[0m\n",
      "\u001b[1m[\u001b[0m\u001b[34;49mnotice\u001b[0m\u001b[1;39;49m]\u001b[0m\u001b[39;49m To update, run: \u001b[0m\u001b[32;49mpip3 install --upgrade pip\u001b[0m\n"
     ]
    }
   ],
   "source": [
    "# Install the OpenAI package\n",
    "\n",
    "!pip3 install openai\n",
    "!pip3 install dotenv"
   ]
  },
  {
   "cell_type": "code",
   "execution_count": 9,
   "metadata": {},
   "outputs": [
    {
     "data": {
      "text/plain": [
       "True"
      ]
     },
     "execution_count": 9,
     "metadata": {},
     "output_type": "execute_result"
    }
   ],
   "source": [
    "# Make sure to set your environment variables before running this!\n",
    "import os\n",
    "from dotenv import load_dotenv\n",
    "\n",
    "load_dotenv()"
   ]
  },
  {
   "cell_type": "code",
   "execution_count": 15,
   "metadata": {},
   "outputs": [
    {
     "name": "stdout",
     "output_type": "stream",
     "text": [
      "As of the latest information available to me, the capital of Kazakhstan is Nur-Sultan. The city was formerly known as Astana but was renamed in March 2019 in honor of the longtime President Nursultan Nazarbayev.\n"
     ]
    }
   ],
   "source": [
    "# Make sure to set your environment variables before running this!\n",
    "\n",
    "from openai import OpenAI\n",
    "import os \n",
    "\n",
    "# Create an OpenAI client using API key and optionally, the base URL\n",
    "client = OpenAI(\n",
    "    api_key= os.environ.get(\"OPENAI_API_KEY\"),\n",
    "    base_url=os.environ.get(\"OPENAI_BASE_URL\"),\n",
    ")\n",
    "\n",
    "# Ask a question to GPT 3.5\n",
    "completion = client.chat.completions.create(\n",
    "  model=\"gpt-3.5-turbo\",\n",
    "  messages=[\n",
    "    {\"role\": \"user\", \"content\": \"What is the capital of Kazakhstan?\"}\n",
    "  ]\n",
    ")\n",
    "\n",
    "print(completion.choices[0].message.content)"
   ]
  },
  {
   "cell_type": "markdown",
   "metadata": {},
   "source": []
  }
 ],
 "metadata": {
  "kernelspec": {
   "display_name": "Python 3",
   "language": "python",
   "name": "python3"
  },
  "language_info": {
   "codemirror_mode": {
    "name": "ipython",
    "version": 3
   },
   "file_extension": ".py",
   "mimetype": "text/x-python",
   "name": "python",
   "nbconvert_exporter": "python",
   "pygments_lexer": "ipython3",
   "version": "3.11.6"
  }
 },
 "nbformat": 4,
 "nbformat_minor": 2
}
